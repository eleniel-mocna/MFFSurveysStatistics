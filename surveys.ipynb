{
 "cells": [
  {
   "cell_type": "markdown",
   "source": [
    "# Statistics of MFF survey answers for years 2018 - 2021"
   ],
   "metadata": {
    "collapsed": false,
    "pycharm": {
     "name": "#%% md\n"
    }
   }
  },
  {
   "cell_type": "markdown",
   "source": [
    "## Data collection\n",
    "\n",
    "Data was collected from SIS's survey of numerical evaluation (rating) of subjects [available here](https://is.cuni.cz/studium/anketa/index.php?do=vysledky&skr=2021&sem=1&co=1&fak=11320)and then parsed into csv files, which are available in this repository.\n",
    "The file names represent the time from which this data was collected (e.g.: `win18` representing the winter semester of academic year 2018 - 2019)\n",
    "For each semester we collect the means and standard deviations for all subjects.\n",
    "\n",
    "### Data structure\n",
    "\n",
    "For each year there is for each subject the mean and standard deviation of the marks given by students.\n",
    "The meaning of the marks is following: 1 (best) - 5 (worst)."
   ],
   "metadata": {
    "collapsed": false,
    "pycharm": {
     "name": "#%% md\n"
    }
   }
  },
  {
   "cell_type": "markdown",
   "source": [
    "## Data preprocessing\n",
    "\n",
    "Firstly we clean the data by removing unwanted lines that are left from the data scraping.\n",
    "We will not remove any outliers nor add any filtering, because in this dataset these are most probably not statistical anomalies, but real life statistics, as these are already means and standard deviations of other real student votes."
   ],
   "metadata": {
    "collapsed": false,
    "pycharm": {
     "name": "#%% md\n"
    }
   }
  },
  {
   "cell_type": "markdown",
   "source": [],
   "metadata": {
    "collapsed": false,
    "pycharm": {
     "name": "#%% md\n"
    }
   }
  },
  {
   "cell_type": "code",
   "execution_count": 1,
   "metadata": {
    "collapsed": true,
    "pycharm": {
     "name": "#%%\n"
    }
   },
   "outputs": [],
   "source": [
    "import pandas as pd\n",
    "import matplotlib.pyplot as plt\n",
    "import scipy\n",
    "import os\n",
    "import warnings\n",
    "\n",
    "warnings.filterwarnings('ignore')  # We disable pandas warnings, which do not apply for this context"
   ]
  },
  {
   "cell_type": "code",
   "execution_count": 2,
   "outputs": [],
   "source": [
    "path = \"surveys\"\n",
    "files = ['surveys\\\\win18.csv',  # This is done so that we have files in the right order\n",
    "         'surveys\\\\sum18.csv',\n",
    "         'surveys\\\\win19.csv',\n",
    "         'surveys\\\\sum19.csv',\n",
    "         'surveys\\\\win20.csv',\n",
    "         'surveys\\\\sum20.csv',\n",
    "         'surveys\\\\win21.csv']\n",
    "df_all = [pd.read_csv(x, sep=\"\\t\", encoding=\"utf-8\", header=None) for x in files]"
   ],
   "metadata": {
    "collapsed": false,
    "pycharm": {
     "name": "#%%\n"
    }
   }
  },
  {
   "cell_type": "code",
   "execution_count": 3,
   "outputs": [],
   "source": [
    "def clean_df(df):\n",
    "    df = df[df[0] != \" \"]\n",
    "    df[\"mean\"] = df[2].map(lambda x: float(x.split(\":\")[0].replace(\",\", \".\")))\n",
    "    df[\"std\"] = df[2].map(lambda x: float(x.split(\":\")[1].replace(\",\", \".\")))\n",
    "    df = df.rename({0: \"name\"}, axis=1)\n",
    "    return df[[\"name\", \"mean\", \"std\"]]\n",
    "\n",
    "\n",
    "cleaned_df = [clean_df(x) for x in df_all]"
   ],
   "metadata": {
    "collapsed": false,
    "pycharm": {
     "name": "#%%\n"
    }
   }
  },
  {
   "cell_type": "markdown",
   "source": [
    "## First Data analysis\n",
    "\n",
    "Now let's look at the dataset. With the main focus on semesters of summer 2020 and both winter and summer of 2021 being influenced by the COVID-19 pandemic and therefore being taught virtually."
   ],
   "metadata": {
    "collapsed": false,
    "pycharm": {
     "name": "#%% md\n"
    }
   }
  },
  {
   "cell_type": "markdown",
   "source": [
    "### Trends\n",
    "Firstly let's see what the trends in the means of all subject evaluations are."
   ],
   "metadata": {
    "collapsed": false,
    "pycharm": {
     "name": "#%% md\n"
    }
   }
  },
  {
   "cell_type": "code",
   "execution_count": 4,
   "outputs": [
    {
     "data": {
      "text/plain": "<Figure size 432x288 with 1 Axes>",
      "image/png": "[encoded data removed]"
     },
     "metadata": {
      "needs_background": "light"
     },
     "output_type": "display_data"
    },
    {
     "data": {
      "text/plain": "<Figure size 432x288 with 1 Axes>",
      "image/png": "[encoded data removed]"
     },
     "metadata": {
      "needs_background": "light"
     },
     "output_type": "display_data"
    }
   ],
   "source": [
    "plt.plot([clean_df['mean'].mean() for clean_df in cleaned_df])\n",
    "plt.xticks(range(len(files)), [x[-6:-4] for x in files])\n",
    "plt.title(\"Mean development\")\n",
    "plt.show()\n",
    "plt.plot([clean_df['std'].mean() for clean_df in cleaned_df])\n",
    "plt.xticks(range(len(files)), [x[-6:-4] for x in files])\n",
    "plt.title(\"Std development\")\n",
    "plt.show()"
   ],
   "metadata": {
    "collapsed": false,
    "pycharm": {
     "name": "#%%\n"
    }
   }
  },
  {
   "cell_type": "markdown",
   "source": [
    "For the mean value, we can see a steep decrease from the winter semester of 2018 to the summer semester of 2018 and then again a slow decrease until the winter semester of 2020 when we see a start to a slow increase. But all of these changes are less than 10 % of value.\n",
    "(Just to clarify a lower mark is better, so we see an increase in performance - student satisfaction)\n",
    "\n",
    "For the standard deviation we can see a similar graph with similar relative scale. This is probably just a result of more grades 1 in the voting, which can be seen already in the development of the mean values."
   ],
   "metadata": {
    "collapsed": false,
    "pycharm": {
     "name": "#%% md\n"
    }
   }
  },
  {
   "cell_type": "markdown",
   "source": [
    "## Students satisfaction differs between virtual and in-person teaching\n",
    "\n",
    "In the first test we will try to disprove the null hypothesis that virtual school causes worse (i.e. higher) ratings in the surveys.\n",
    "\n",
    "For this we will select the virtual semesters (summer 2020, winter 2021, summer 2021) and use the T test against the rest of the dataset."
   ],
   "metadata": {
    "collapsed": false,
    "pycharm": {
     "name": "#%% md\n"
    }
   }
  },
  {
   "cell_type": "code",
   "execution_count": 5,
   "outputs": [
    {
     "name": "stdout",
     "output_type": "stream",
     "text": [
      "Ttest_indResult(statistic=2.200488707855644, pvalue=0.013961546479176924)\n"
     ]
    }
   ],
   "source": [
    "virtual = pd.concat(cleaned_df[3:6])\n",
    "in_person = pd.concat(cleaned_df[:3]+[cleaned_df[-1]])\n",
    "print(scipy.stats.ttest_ind(in_person[\"mean\"], virtual[\"mean\"], alternative=\"greater\"))"
   ],
   "metadata": {
    "collapsed": false,
    "pycharm": {
     "name": "#%%\n"
    }
   }
  },
  {
   "cell_type": "markdown",
   "source": [
    "0.01 < 0.05. We can reject the hypothesis that students rate subjects better when they go to school in person.\n",
    "This is a very interesting result, because most other surveys say otherwise. For this reason (and because the distributions aren't perfectly normal I would be careful with this result and suggest more research and data collection on this hypothesis)."
   ],
   "metadata": {
    "collapsed": false,
    "pycharm": {
     "name": "#%% md\n"
    }
   }
  },
  {
   "cell_type": "markdown",
   "source": [
    "# Student satisfaction differs in winter and summer\n",
    "\n",
    "In this test we will try to disprove the null hypothesis that subjects in winter and summer get marked the same."
   ],
   "metadata": {
    "collapsed": false,
    "pycharm": {
     "name": "#%% md\n"
    }
   }
  },
  {
   "cell_type": "code",
   "execution_count": 6,
   "outputs": [],
   "source": [
    "winters = pd.concat([cleaned_df[0], cleaned_df[2], cleaned_df[4], cleaned_df[6]])\n",
    "summers = pd.concat([cleaned_df[1], cleaned_df[3], cleaned_df[5]])"
   ],
   "metadata": {
    "collapsed": false,
    "pycharm": {
     "name": "#%%\n"
    }
   }
  },
  {
   "cell_type": "code",
   "execution_count": 7,
   "outputs": [
    {
     "data": {
      "text/plain": "Ttest_indResult(statistic=0.8987117571283306, pvalue=0.36894940064637505)"
     },
     "execution_count": 7,
     "metadata": {},
     "output_type": "execute_result"
    }
   ],
   "source": [
    "scipy.stats.ttest_ind(winters[\"mean\"], summers[\"mean\"])"
   ],
   "metadata": {
    "collapsed": false,
    "pycharm": {
     "name": "#%%\n"
    }
   }
  },
  {
   "cell_type": "markdown",
   "source": [
    "And from the results we see that we can't reject the hypothesis and subjects might get the same results in winter as well in summer"
   ],
   "metadata": {
    "collapsed": false,
    "pycharm": {
     "name": "#%% md\n"
    }
   }
  },
  {
   "cell_type": "markdown",
   "source": [
    "## Final remarks\n",
    "\n",
    "The first result is surprising when from all places in the faculty the virtual teaching is frowned upon. But as mentioned above I suggest more research done into this statistic.\n",
    "On the other hand I find unsurprising that there is no difference in marking subjects between summer and winter semesters."
   ],
   "metadata": {
    "collapsed": false,
    "pycharm": {
     "name": "#%% md\n"
    }
   }
  },
  {
   "cell_type": "markdown",
   "source": [
    "## Last interesting thing\n",
    "\n",
    "After writing everything I wanted to test if we can find some single semester differences and plotted all T test p values between individual semesters against each other and found out that only the hypotheses that the first semester (winter 2018/19) is better marked than the covid ones can be rejected. (Using a p value of 0.03 because we are pretty far from the normal distribution)"
   ],
   "metadata": {
    "collapsed": false,
    "pycharm": {
     "name": "#%% md\n"
    }
   }
  },
  {
   "cell_type": "code",
   "execution_count": 8,
   "outputs": [
    {
     "data": {
      "text/plain": "<Figure size 288x288 with 1 Axes>",
      "image/png": "[encoded data removed]"
     },
     "metadata": {
      "needs_background": "light"
     },
     "output_type": "display_data"
    },
    {
     "name": "stdout",
     "output_type": "stream",
     "text": [
      "[[0.5        0.07944724 0.03949097 0.01387825 0.00268969 0.03377071\n",
      "  0.03226545]\n",
      " [0.92055276 0.5        0.45950627 0.23469333 0.15019596 0.31285101\n",
      "  0.3989379 ]\n",
      " [0.96050903 0.54049373 0.5        0.23697561 0.14107997 0.32486195\n",
      "  0.42766546]\n",
      " [0.98612175 0.76530667 0.76302439 0.5        0.40922258 0.57428273\n",
      "  0.70089028]\n",
      " [0.99731031 0.84980404 0.85892003 0.59077742 0.5        0.66242613\n",
      "  0.80126657]\n",
      " [0.96622929 0.68714899 0.67513805 0.42571727 0.33757387 0.5\n",
      "  0.61341522]\n",
      " [0.96773455 0.6010621  0.57233454 0.29910972 0.19873343 0.38658478\n",
      "  0.5       ]]\n"
     ]
    }
   ],
   "source": [
    "import numpy as np\n",
    "results = np.array([[scipy.stats.ttest_ind(x[\"mean\"], y[\"mean\"], alternative=\"greater\").pvalue for y in cleaned_df] for x in cleaned_df])\n",
    "plt.matshow(results>0.03)\n",
    "plt.show()\n",
    "print(results)"
   ],
   "metadata": {
    "collapsed": false,
    "pycharm": {
     "name": "#%%\n"
    }
   }
  }
 ],
 "metadata": {
  "kernelspec": {
   "display_name": "Python 3",
   "language": "python",
   "name": "python3"
  },
  "language_info": {
   "codemirror_mode": {
    "name": "ipython",
    "version": 2
   },
   "file_extension": ".py",
   "mimetype": "text/x-python",
   "name": "python",
   "nbconvert_exporter": "python",
   "pygments_lexer": "ipython2",
   "version": "2.7.6"
  }
 },
 "nbformat": 4,
 "nbformat_minor": 0
}